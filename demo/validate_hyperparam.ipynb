{
 "cells": [
  {
   "attachments": {},
   "cell_type": "markdown",
   "metadata": {},
   "source": [
    "# Validation Embeddings"
   ]
  },
  {
   "attachments": {},
   "cell_type": "markdown",
   "metadata": {},
   "source": [
    "## Set up global variables and random_state"
   ]
  },
  {
   "cell_type": "code",
   "execution_count": null,
   "metadata": {},
   "outputs": [],
   "source": [
    "import numpy as np\n",
    "import torch\n",
    "from matplotlib import pyplot as plt\n",
    "from datetime import datetime\n",
    "from opendataval.util import set_random_state\n",
    "\n",
    "device = torch.device(\"mps\")\n",
    "random_state = set_random_state(10)\n",
    "date = datetime.now().strftime(\"%m-%d_%H:%M\")"
   ]
  },
  {
   "attachments": {},
   "cell_type": "markdown",
   "metadata": {},
   "source": [
    "## Choose Data set and load embeddings, \n",
    "#### prevents recomputing embeddings on subsequent loads"
   ]
  },
  {
   "cell_type": "code",
   "execution_count": null,
   "metadata": {},
   "outputs": [],
   "source": [
    "from opendataval.dataloader import mix_labels, DataFetcher\n",
    "embedding_datasets = [\"imagenet-val\", \"imagenet-val-embeddings\", \"cifar10-val\", \"cifar10-val-embeddings\", \"cifar10-val-embeddings\", \"cifar100-val-embeddings\"]\n",
    "\n",
    "dataset_name = embedding_datasets[1]\n",
    "fetcher = DataFetcher(dataset_name, \"../data_files/\", False, 10)  # Defined here to repeat fetching embeddings]"
   ]
  },
  {
   "attachments": {},
   "cell_type": "markdown",
   "metadata": {},
   "source": [
    "## Finish setting up the fetcher "
   ]
  },
  {
   "cell_type": "code",
   "execution_count": null,
   "metadata": {},
   "outputs": [],
   "source": [
    "train_count, valid_count, test_count = 25000, 2000, 5000\n",
    "add_noise_func = mix_labels\n",
    "noise_rate = 0\n",
    "noise_kwargs = {'noise_rate': noise_rate }\n",
    "\n",
    "fetcher = (\n",
    "    fetcher\n",
    "    .split_dataset_by_count(train_count, valid_count, test_count)\n",
    ")\n"
   ]
  },
  {
   "attachments": {},
   "cell_type": "markdown",
   "metadata": {},
   "source": [
    "## Eval function"
   ]
  },
  {
   "cell_type": "code",
   "execution_count": null,
   "metadata": {},
   "outputs": [],
   "source": [
    "def acc(a, b) -> float:\n",
    "    return (a.cpu().argmax(1) == b.cpu().argmax(1)).float().mean().item()"
   ]
  },
  {
   "attachments": {},
   "cell_type": "markdown",
   "metadata": {},
   "source": [
    "# Using a logreg model as the downstream model"
   ]
  },
  {
   "cell_type": "code",
   "execution_count": null,
   "metadata": {},
   "outputs": [],
   "source": [
    "from opendataval.model import ModelFactory\n",
    "\n",
    "classification_models = [\"LogisticRegression\", 'ClassifierMLP', \"skmlp\", \"sklogreg\", \"skknn\"]\n",
    "model_name = classification_models[0]\n",
    "pred_model = ModelFactory(model_name, fetcher, device)\n",
    "model = pred_model.clone()\n",
    "train_kwargs = {\"epochs\": 10, \"batch_size\": 250, \"lr\": 0.001}\n",
    "metric_name = \"accuracy\"\n",
    "\n",
    "# model = ClassifierMLP(2048, 1000, 5, 250).to(\"mps\")\n",
    "\n",
    "x_train, y_train,  x_valid, y_valid, *_ = fetcher.datapoints\n",
    "model.fit(x_train, y_train, **train_kwargs)\n",
    "print(\"Accuracy: = \")\n",
    "print(acc(model.predict(x_valid), y_valid))"
   ]
  },
  {
   "cell_type": "code",
   "execution_count": null,
   "metadata": {},
   "outputs": [],
   "source": [
    "from opendataval.util import ParamSweep\n",
    "\n",
    "output = ParamSweep(pred_model, acc, fetcher=fetcher, samples=10).sweep(\n",
    "    epochs=[5, 10, 20],\n",
    "    batch_size=[100, 250, 1000],\n",
    "    lr=[0.01, 0.001]\n",
    ")\n",
    "output"
   ]
  },
  {
   "attachments": {},
   "cell_type": "markdown",
   "metadata": {},
   "source": [
    "## Reduce input size"
   ]
  },
  {
   "cell_type": "code",
   "execution_count": null,
   "metadata": {},
   "outputs": [],
   "source": [
    "from opendataval.util import MeanStdTime\n",
    "import time\n",
    "import tqdm\n",
    "REPEAT_COUNT = 10\n",
    "best_sweep_kwargs = {'epochs': 5, 'batch_size': 100, 'lr': 0.001}  # Fastest 5 iteration\n",
    "def change_train_size(train_size: int):\n",
    "    perf_list = []\n",
    "    \n",
    "    # This will always reset the original fetcher\n",
    "    x_train, y_train, x_valid, y_valid, *_ = fetcher.split_dataset_by_count(train_size, valid_count, test_count).datapoints\n",
    "    start = time.perf_counter()\n",
    "    for _ in tqdm.trange(REPEAT_COUNT):\n",
    "        curr_model = pred_model.clone()\n",
    "        curr_model.fit(x_train, y_train, **best_sweep_kwargs)\n",
    "        yhat = curr_model.predict(x_valid).cpu()\n",
    "        perf = acc(yhat, y_valid)\n",
    "        perf_list.append(perf)\n",
    "\n",
    "    end = time.perf_counter()\n",
    "    mean_std = MeanStdTime(perf_list, end-start)\n",
    "    print(f\"{train_size=} | {mean_std}\")\n",
    "    return mean_std\n"
   ]
  },
  {
   "attachments": {},
   "cell_type": "markdown",
   "metadata": {},
   "source": [
    "## Change noise rate"
   ]
  },
  {
   "cell_type": "code",
   "execution_count": null,
   "metadata": {},
   "outputs": [],
   "source": [
    "change_train_size(25000) # Default\n",
    "change_train_size(2500) \n",
    "change_train_size(250) "
   ]
  },
  {
   "cell_type": "code",
   "execution_count": null,
   "metadata": {},
   "outputs": [],
   "source": [
    "from opendataval.dataloader.noisify import add_gauss_noise\n",
    "from opendataval.util import MeanStdTime\n",
    "import time\n",
    "import tqdm\n",
    "REPEAT_COUNT = 5  # To save time\n",
    "best_sweep_kwargs = {'epochs': 5, 'batch_size': 250, 'lr': .001}\n",
    "\n",
    "def change_noise_rate(noise_rate: float):\n",
    "    perf_list = []\n",
    "\n",
    "    # This will always reset the original fetcher\n",
    "    x_train, y_train, x_valid, y_valid, *_ = (\n",
    "        DataFetcher(dataset_name, \"../data_files/\", False, 10)\n",
    "        .split_dataset_by_count(train_count, valid_count, test_count)\n",
    "        .noisify(mix_labels, noise_rate=noise_rate)\n",
    "    ).datapoints\n",
    "    start_time = time.perf_counter()\n",
    "\n",
    "    for _ in tqdm.trange(REPEAT_COUNT):\n",
    "        curr_model = pred_model.clone()\n",
    "        curr_model.fit(x_train, y_train, **best_sweep_kwargs)\n",
    "        yhat = curr_model.predict(x_valid).cpu()\n",
    "        perf = acc(yhat, y_valid)\n",
    "        perf_list.append(perf)\n",
    "\n",
    "    end_time = time.perf_counter()\n",
    "    mean_std = MeanStdTime(perf_list, end_time-start_time)\n",
    "    print(f\"{noise_rate=} | {mean_std}\")\n",
    "    return mean_std\n"
   ]
  },
  {
   "cell_type": "code",
   "execution_count": null,
   "metadata": {},
   "outputs": [],
   "source": [
    "change_noise_rate(0.) # Default\n",
    "change_noise_rate(.1)\n",
    "change_noise_rate(.2) \n",
    "change_noise_rate(.3) \n",
    "change_noise_rate(.4)"
   ]
  },
  {
   "cell_type": "code",
   "execution_count": null,
   "metadata": {},
   "outputs": [],
   "source": []
  }
 ],
 "metadata": {
  "kernelspec": {
   "display_name": "fresher",
   "language": "python",
   "name": "python3"
  },
  "language_info": {
   "codemirror_mode": {
    "name": "ipython",
    "version": 3
   },
   "file_extension": ".py",
   "mimetype": "text/x-python",
   "name": "python",
   "nbconvert_exporter": "python",
   "pygments_lexer": "ipython3",
   "version": "3.11.3"
  },
  "orig_nbformat": 4
 },
 "nbformat": 4,
 "nbformat_minor": 2
}
