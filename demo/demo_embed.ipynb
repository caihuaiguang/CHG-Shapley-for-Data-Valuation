{
 "cells": [
  {
   "attachments": {},
   "cell_type": "markdown",
   "metadata": {},
   "source": [
    "# Demo embeddings"
   ]
  },
  {
   "attachments": {},
   "cell_type": "markdown",
   "metadata": {},
   "source": [
    "## Set up global variables and random_state"
   ]
  },
  {
   "cell_type": "code",
   "execution_count": null,
   "metadata": {},
   "outputs": [],
   "source": [
    "import numpy as np\n",
    "import torch\n",
    "from matplotlib import pyplot as plt\n",
    "from datetime import datetime\n",
    "from opendataval.util import set_random_state\n",
    "\n",
    "device = torch.device(\"mps\")\n",
    "random_state = set_random_state(10)\n",
    "date = datetime.now().strftime(\"%m-%d_%H:%M\")"
   ]
  },
  {
   "attachments": {},
   "cell_type": "markdown",
   "metadata": {},
   "source": [
    "## Choose Data set and load embeddings, \n",
    "#### prevents recomputing embeddings on subsequent loads"
   ]
  },
  {
   "cell_type": "code",
   "execution_count": null,
   "metadata": {},
   "outputs": [],
   "source": [
    "from opendataval.dataloader import mix_labels, DataFetcher\n",
    "embedding_datasets = [\"cifar10-embeddings\", \"bbc-embeddings\"]\n",
    "\n",
    "dataset_name = embedding_datasets[0]\n",
    "fetcher = DataFetcher(dataset_name, \"../data_files/\")  # Defined here to repeat fetching embeddings"
   ]
  },
  {
   "attachments": {},
   "cell_type": "markdown",
   "metadata": {},
   "source": [
    "## Finish setting up the fetcher "
   ]
  },
  {
   "cell_type": "code",
   "execution_count": null,
   "metadata": {},
   "outputs": [],
   "source": [
    "train_count, valid_count, test_count = 250, 100, 100\n",
    "add_noise_func = mix_labels\n",
    "noise_rate = .2\n",
    "noise_kwargs = {'noise_rate': noise_rate }\n",
    "\n",
    "fetcher = (\n",
    "    fetcher.split_dataset_by_count(\n",
    "        train_count, valid_count, test_count\n",
    "    ).noisify(\n",
    "        add_noise_func, **noise_kwargs\n",
    "    )\n",
    ")"
   ]
  },
  {
   "attachments": {},
   "cell_type": "markdown",
   "metadata": {},
   "source": [
    "## Get ExperimentMediator without specifying DataEvaluators"
   ]
  },
  {
   "cell_type": "code",
   "execution_count": null,
   "metadata": {},
   "outputs": [],
   "source": [
    "from opendataval.model import ModelFactory\n",
    "\n",
    "classification_models = [\"LogisticRegression\", 'ClassifierMLP', \"skmlp\", \"sklogreg\", \"skknn\"]\n",
    "model_name = classification_models[0]\n",
    "train_kwargs = {\"epochs\": 7, \"batch_size\": 50, \"lr\": 0.01}\n",
    "metric_name = \"accuracy\"\n",
    "test_model = ModelFactory(model_name, fetcher, \"mps\").clone()\n",
    "\n",
    "x_train, y_train, *_, x_valid, y_valid = fetcher.datapoints\n",
    "test_model.fit(x_train, y_train, **train_kwargs)\n",
    "print((test_model.predict(x_valid).cpu().argmax(1) == y_valid.argmax(1)).float().mean())"
   ]
  },
  {
   "attachments": {},
   "cell_type": "markdown",
   "metadata": {},
   "source": [
    "# Setting up mediator"
   ]
  },
  {
   "cell_type": "code",
   "execution_count": null,
   "metadata": {},
   "outputs": [],
   "source": [
    "from opendataval.experiment import ExperimentMediator\n",
    "model = ModelFactory(model_name, fetcher, \"mps\").clone()\n",
    "exper_med = ExperimentMediator(fetcher, model, train_kwargs, metric_name)"
   ]
  },
  {
   "attachments": {},
   "cell_type": "markdown",
   "metadata": {},
   "source": [
    "## Data Evaluators"
   ]
  },
  {
   "attachments": {},
   "cell_type": "markdown",
   "metadata": {},
   "source": [
    "#### Lots of imports for the many Data Evaluators"
   ]
  },
  {
   "cell_type": "code",
   "execution_count": null,
   "metadata": {},
   "outputs": [],
   "source": [
    "from opendataval.dataval.ame import AME\n",
    "from opendataval.dataval.influence import InfluenceFunctionEval\n",
    "from opendataval.dataval.oob import DataOob\n",
    "from opendataval.dataval.dvrl import DVRL\n",
    "from opendataval.dataval import LeaveOneOut\n",
    "from opendataval.dataval import BetaShapley, DataShapley\n",
    "from opendataval.dataval import DataBanzhaf"
   ]
  },
  {
   "attachments": {},
   "cell_type": "markdown",
   "metadata": {},
   "source": [
    "#### Set up a series of data evaluators"
   ]
  },
  {
   "cell_type": "code",
   "execution_count": null,
   "metadata": {},
   "outputs": [],
   "source": [
    "data_evaluators = [\n",
    "    AME(num_models=2000, random_state=random_state),\n",
    "    DataOob(random_state=random_state),  # 1000 samples\n",
    "    DVRL(rl_epochs=3000, random_state=random_state, device=device),\n",
    "    LeaveOneOut(random_state=random_state),\n",
    "    InfluenceFunctionEval(8000, random_state=random_state),\n",
    "    DataBanzhaf(8000, random_state=random_state),\n",
    "    BetaShapley(gr_threshold=1.05, mc_epochs=500, cache_name=\"cached\", random_state=random_state),\n",
    "    DataShapley(gr_threshold=1.05, mc_epochs=500, cache_name=\"cached\", random_state=random_state),\n",
    "]"
   ]
  },
  {
   "cell_type": "code",
   "execution_count": null,
   "metadata": {},
   "outputs": [],
   "source": [
    "exper_med = exper_med.compute_data_values(data_evaluators=data_evaluators)"
   ]
  },
  {
   "attachments": {},
   "cell_type": "markdown",
   "metadata": {},
   "source": [
    "## Running experiments on the data values"
   ]
  },
  {
   "cell_type": "code",
   "execution_count": null,
   "metadata": {},
   "outputs": [],
   "source": [
    "from opendataval.experiment.exper_methods import (\n",
    "    discover_corrupted_sample,\n",
    "    noisy_detection,\n",
    "    remove_high_low,\n",
    "    increasing_bin_removal,\n",
    "    save_dataval\n",
    ")\n",
    "\n",
    "# Saving the results\n",
    "output_dir = f\"../tmp/{dataset_name}_{noise_rate=}/{date}/\"\n",
    "exper_med.set_output_directory(output_dir)\n",
    "output_dir"
   ]
  },
  {
   "attachments": {},
   "cell_type": "markdown",
   "metadata": {},
   "source": [
    "#### Discover corrupted sample"
   ]
  },
  {
   "cell_type": "code",
   "execution_count": null,
   "metadata": {},
   "outputs": [],
   "source": [
    "fig = plt.figure(figsize=(15, 15))\n",
    "df_resp, fig = exper_med.plot(discover_corrupted_sample, fig, col=2, save_output=True)"
   ]
  },
  {
   "attachments": {},
   "cell_type": "markdown",
   "metadata": {},
   "source": [
    "#### Noisy Detection"
   ]
  },
  {
   "cell_type": "code",
   "execution_count": null,
   "metadata": {},
   "outputs": [],
   "source": [
    "exper_med.evaluate(noisy_detection, save_output=True)"
   ]
  },
  {
   "attachments": {},
   "cell_type": "markdown",
   "metadata": {},
   "source": [
    "### Removing high values and low values"
   ]
  },
  {
   "cell_type": "code",
   "execution_count": null,
   "metadata": {},
   "outputs": [],
   "source": [
    "fig = plt.figure(figsize=(15, 15))\n",
    "df_resp, fig = exper_med.plot(remove_high_low, fig, percentile=.2, include_train=True, col=2, save_output=True)\n",
    "df_resp"
   ]
  },
  {
   "attachments": {},
   "cell_type": "markdown",
   "metadata": {},
   "source": [
    "### Increasing bin removal"
   ]
  },
  {
   "cell_type": "code",
   "execution_count": null,
   "metadata": {},
   "outputs": [],
   "source": [
    "fig = plt.figure(figsize=(15, 15))\n",
    "df_resp, fig = exper_med.plot(increasing_bin_removal, fig, include_train=True, col=2, save_output=True)"
   ]
  },
  {
   "attachments": {},
   "cell_type": "markdown",
   "metadata": {},
   "source": [
    "#### Save data values"
   ]
  },
  {
   "cell_type": "code",
   "execution_count": null,
   "metadata": {},
   "outputs": [],
   "source": [
    "exper_med.evaluate(save_dataval, save_output=True)"
   ]
  }
 ],
 "metadata": {
  "kernelspec": {
   "display_name": "fresher",
   "language": "python",
   "name": "python3"
  },
  "language_info": {
   "codemirror_mode": {
    "name": "ipython",
    "version": 3
   },
   "file_extension": ".py",
   "mimetype": "text/x-python",
   "name": "python",
   "nbconvert_exporter": "python",
   "pygments_lexer": "ipython3",
   "version": "3.11.3"
  },
  "orig_nbformat": 4
 },
 "nbformat": 4,
 "nbformat_minor": 2
}
